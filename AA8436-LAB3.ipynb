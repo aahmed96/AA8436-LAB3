{
 "cells": [
  {
   "cell_type": "markdown",
   "metadata": {
    "id": "1qqzIuX1ur31"
   },
   "source": [
    "# Pruning Models to prevent Backdoor attacks"
   ]
  },
  {
   "cell_type": "markdown",
   "metadata": {
    "id": "mC3k0XEbuylN"
   },
   "source": [
    "## Importing Libraries, cloning github repo and downloading datasets"
   ]
  },
  {
   "cell_type": "code",
   "execution_count": null,
   "metadata": {
    "id": "nX36UKuucRhZ"
   },
   "outputs": [],
   "source": [
    "#import libraries\n",
    "import numpy as np\n",
    "import matplotlib \n",
    "import matplotlib.pyplot as plt\n",
    "import seaborn as sns\n",
    "import pandas as pd\n",
    "import os\n",
    "import tensorflow as tf\n",
    "from tensorflow import keras\n",
    "from keras import models\n",
    "import h5py\n",
    "import matplotlib.image as mpimg\n",
    "import imageio as im"
   ]
  },
  {
   "cell_type": "markdown",
   "metadata": {
    "id": "-HO7Zpgqc-zV"
   },
   "source": [
    "Clone the repository"
   ]
  },
  {
   "cell_type": "code",
   "execution_count": null,
   "metadata": {
    "colab": {
     "base_uri": "https://localhost:8080/"
    },
    "id": "P-grKD70c7dB",
    "outputId": "cec405b4-9605-4988-c6e4-1c0f237a0ca4"
   },
   "outputs": [
    {
     "name": "stdout",
     "output_type": "stream",
     "text": [
      "Cloning into 'CSAW-HackML-2020'...\n",
      "remote: Enumerating objects: 220, done.\u001b[K\n",
      "remote: Counting objects: 100% (56/56), done.\u001b[K\n",
      "remote: Compressing objects: 100% (52/52), done.\u001b[K\n",
      "remote: Total 220 (delta 27), reused 0 (delta 0), pack-reused 164\u001b[K\n",
      "Receiving objects: 100% (220/220), 85.94 MiB | 14.70 MiB/s, done.\n",
      "Resolving deltas: 100% (82/82), done.\n"
     ]
    }
   ],
   "source": [
    "! git clone https://github.com/csaw-hackml/CSAW-HackML-2020.git"
   ]
  },
  {
   "cell_type": "code",
   "execution_count": null,
   "metadata": {
    "colab": {
     "base_uri": "https://localhost:8080/"
    },
    "id": "gpp9IfJJe6xX",
    "outputId": "0536639d-4bbc-4a10-d50c-5643b03c42e6"
   },
   "outputs": [
    {
     "name": "stdout",
     "output_type": "stream",
     "text": [
      "/content/CSAW-HackML-2020/data\n"
     ]
    }
   ],
   "source": [
    "%cd /content/CSAW-HackML-2020/data\n",
    "\n",
    "#!gdown --id 19OKCkY2CjV3ASkOe6nMSYTsOVcxAoCnA\n",
    "#!gdown --id 1XtYnM-IopU-QYVc99U51EiDvI5zxK0nV\n",
    "#!gdown --id 1P8PTL62x3cfpV9mrC0unqZjRFhlTTOSG\n",
    "#!gdown --id 1XFKaTse6gflUFK7lDPxXBUaq4oQA8-qy"
   ]
  },
  {
   "cell_type": "markdown",
   "metadata": {
    "id": "Kao_cldDdzhA"
   },
   "source": [
    "Download the datasets from Google Drive"
   ]
  },
  {
   "cell_type": "code",
   "execution_count": null,
   "metadata": {
    "colab": {
     "base_uri": "https://localhost:8080/"
    },
    "id": "hrbXkwSEb2lL",
    "outputId": "b7747e12-43c9-49e8-e678-1982246bad28"
   },
   "outputs": [
    {
     "name": "stdout",
     "output_type": "stream",
     "text": [
      "/content/CSAW-HackML-2020/data/lab3\n",
      "/content/CSAW-HackML-2020/data/lab3/clean\n",
      "Downloading...\n",
      "From: https://drive.google.com/uc?id=1HpahIi-RcvtaRoly_TbuoBzWUaAjVDgt\n",
      "To: /content/CSAW-HackML-2020/data/lab3/clean/test.h5\n",
      "100% 398M/398M [00:04<00:00, 89.0MB/s]\n",
      "Downloading...\n",
      "From: https://drive.google.com/uc?id=1nbB5tyUVClSaFvvg3hrFW4wOUj3GtNTf\n",
      "To: /content/CSAW-HackML-2020/data/lab3/clean/valid.h5\n",
      "100% 716M/716M [00:07<00:00, 95.1MB/s]\n",
      "/content/CSAW-HackML-2020/data/lab3\n",
      "/content/CSAW-HackML-2020/data/lab3/bad\n",
      "Downloading...\n",
      "From: https://drive.google.com/uc?id=1kxNACo0qFo8QdZgtGHvaA67p4h4RcNIy\n",
      "To: /content/CSAW-HackML-2020/data/lab3/bad/bd_test.h5\n",
      "100% 398M/398M [00:04<00:00, 85.1MB/s]\n",
      "Downloading...\n",
      "From: https://drive.google.com/uc?id=1DRKofqVdn2ioh44M45eYZHl_XAW9r3v4\n",
      "To: /content/CSAW-HackML-2020/data/lab3/bad/bd_valid.h5\n",
      "100% 716M/716M [00:07<00:00, 100MB/s] \n"
     ]
    }
   ],
   "source": [
    "%mkdir lab3\n",
    "%cd lab3\n",
    "%mkdir clean\n",
    "%mkdir bad\n",
    "%cd clean\n",
    "\n",
    "#download clean data\n",
    "!gdown --id 1HpahIi-RcvtaRoly_TbuoBzWUaAjVDgt\n",
    "!gdown --id 1nbB5tyUVClSaFvvg3hrFW4wOUj3GtNTf\n",
    "\n",
    "%cd ..\n",
    "%cd bad\n",
    "\n",
    "!gdown --id 1kxNACo0qFo8QdZgtGHvaA67p4h4RcNIy\n",
    "!gdown --id 1DRKofqVdn2ioh44M45eYZHl_XAW9r3v4\n"
   ]
  },
  {
   "cell_type": "markdown",
   "metadata": {
    "id": "nxwAXTAdvACo"
   },
   "source": [
    "## The BadNet"
   ]
  },
  {
   "cell_type": "markdown",
   "metadata": {
    "id": "7X3ahedwvJab"
   },
   "source": [
    "In this section, we do the following:\n",
    "\n",
    "\n",
    "1.   Load the badnet\n",
    "2.   Load the data\n",
    "3.   Get activations for the last CNN layer and sort it\n",
    "\n"
   ]
  },
  {
   "cell_type": "markdown",
   "metadata": {
    "id": "RRaDPqV5vY9m"
   },
   "source": [
    "### Loading the model"
   ]
  },
  {
   "cell_type": "code",
   "execution_count": null,
   "metadata": {
    "colab": {
     "base_uri": "https://localhost:8080/"
    },
    "id": "SNTUMM1ddIs9",
    "outputId": "dfa71f8d-30b7-43ff-9923-b58144e2557d"
   },
   "outputs": [
    {
     "name": "stdout",
     "output_type": "stream",
     "text": [
      "/root\n",
      "/content\n"
     ]
    }
   ],
   "source": [
    "%cd \n",
    "%cd /content\n",
    "path = '/content/CSAW-HackML-2020/lab3/models/bd_net.h5'\n",
    "weightsPath = '/content/CSAW-HackML-2020/lab3/models/bd_weights.h5'\n",
    "\n",
    "BadModel = keras.models.load_model(path)\n",
    "loss_func = tf.keras.losses.SparseCategoricalCrossentropy(from_logits=True)\n",
    "BadModel.compile(optimizer='adam', loss=loss_func, metrics=['accuracy'])\n",
    "#Badmodel.load_weights(weightsPath)\n"
   ]
  },
  {
   "cell_type": "code",
   "execution_count": null,
   "metadata": {
    "colab": {
     "base_uri": "https://localhost:8080/"
    },
    "id": "CR_KZAYEh2hj",
    "outputId": "da17854d-b902-49a6-aa2a-c13117b72d3d"
   },
   "outputs": [
    {
     "name": "stdout",
     "output_type": "stream",
     "text": [
      "Model: \"model_1\"\n",
      "__________________________________________________________________________________________________\n",
      " Layer (type)                   Output Shape         Param #     Connected to                     \n",
      "==================================================================================================\n",
      " input (InputLayer)             [(None, 55, 47, 3)]  0           []                               \n",
      "                                                                                                  \n",
      " conv_1 (Conv2D)                (None, 52, 44, 20)   980         ['input[0][0]']                  \n",
      "                                                                                                  \n",
      " pool_1 (MaxPooling2D)          (None, 26, 22, 20)   0           ['conv_1[0][0]']                 \n",
      "                                                                                                  \n",
      " conv_2 (Conv2D)                (None, 24, 20, 40)   7240        ['pool_1[0][0]']                 \n",
      "                                                                                                  \n",
      " pool_2 (MaxPooling2D)          (None, 12, 10, 40)   0           ['conv_2[0][0]']                 \n",
      "                                                                                                  \n",
      " conv_3 (Conv2D)                (None, 10, 8, 60)    21660       ['pool_2[0][0]']                 \n",
      "                                                                                                  \n",
      " pool_3 (MaxPooling2D)          (None, 5, 4, 60)     0           ['conv_3[0][0]']                 \n",
      "                                                                                                  \n",
      " conv_4 (Conv2D)                (None, 4, 3, 80)     19280       ['pool_3[0][0]']                 \n",
      "                                                                                                  \n",
      " flatten_1 (Flatten)            (None, 1200)         0           ['pool_3[0][0]']                 \n",
      "                                                                                                  \n",
      " flatten_2 (Flatten)            (None, 960)          0           ['conv_4[0][0]']                 \n",
      "                                                                                                  \n",
      " fc_1 (Dense)                   (None, 160)          192160      ['flatten_1[0][0]']              \n",
      "                                                                                                  \n",
      " fc_2 (Dense)                   (None, 160)          153760      ['flatten_2[0][0]']              \n",
      "                                                                                                  \n",
      " add_1 (Add)                    (None, 160)          0           ['fc_1[0][0]',                   \n",
      "                                                                  'fc_2[0][0]']                   \n",
      "                                                                                                  \n",
      " activation_1 (Activation)      (None, 160)          0           ['add_1[0][0]']                  \n",
      "                                                                                                  \n",
      " output (Dense)                 (None, 1283)         206563      ['activation_1[0][0]']           \n",
      "                                                                                                  \n",
      "==================================================================================================\n",
      "Total params: 601,643\n",
      "Trainable params: 601,643\n",
      "Non-trainable params: 0\n",
      "__________________________________________________________________________________________________\n"
     ]
    }
   ],
   "source": [
    "BadModel.summary()"
   ]
  },
  {
   "cell_type": "markdown",
   "metadata": {
    "id": "4yGyr-EEibJz"
   },
   "source": [
    "### Load the data"
   ]
  },
  {
   "cell_type": "code",
   "execution_count": null,
   "metadata": {
    "id": "RONdjqMJic6g"
   },
   "outputs": [],
   "source": [
    "# Load validation dataset\n",
    "def loadData(filePath):\n",
    "  data = h5py.File(filePath,'r')\n",
    "  x = np.array(data['data'])\n",
    "  x = x.transpose((0,2,3,1))\n",
    "  y = np.array(data['label'])\n",
    "\n",
    "  return x,y\n",
    "\n",
    "#set paths for all datasets\n",
    "valCleanPath = '/content/CSAW-HackML-2020/data/lab3/clean/valid.h5'\n",
    "testCleanPath = '/content/CSAW-HackML-2020/data/lab3/clean/test.h5'\n",
    "valBadPath = '/content/CSAW-HackML-2020/data/lab3/bad/bd_valid.h5'\n",
    "testBadPath = '/content/CSAW-HackML-2020/data/lab3/bad/bd_test.h5'\n",
    "\n",
    "#load data\n",
    "valCleanX, valCleanY = loadData(valCleanPath)\n",
    "testCleanX, testCleanY = loadData(testCleanPath)\n",
    "valBadX, valBadY = loadData(valBadPath)\n",
    "testBadX, testBadY = loadData(testBadPath)"
   ]
  },
  {
   "cell_type": "markdown",
   "metadata": {
    "id": "Yqrg-vbYwiWW"
   },
   "source": [
    "### Checking activation"
   ]
  },
  {
   "cell_type": "code",
   "execution_count": null,
   "metadata": {
    "colab": {
     "base_uri": "https://localhost:8080/",
     "height": 647
    },
    "id": "SBVNteirwZ0C",
    "outputId": "f761ae50-9c33-4817-a78b-cf98f13f0d62"
   },
   "outputs": [
    {
     "data": {
      "image/png": "[encoded data removed]",
      "text/plain": [
       "<Figure size 864x720 with 60 Axes>"
      ]
     },
     "metadata": {},
     "output_type": "display_data"
    }
   ],
   "source": [
    "#load model to be repaired\n",
    "#RepairedModel = keras.models.load_model(path)\n",
    "#RepairedModel.compile(optimizer = 'adam',loss = loss_func,metrics=['accuracy'])\n",
    "\n",
    "#extract layers\n",
    "layer = BadModel.layers[5].output\n",
    "activationModel = models.Model(inputs=BadModel.input, outputs=layer)\n",
    "layerActivations = activationModel.predict(valCleanX)\n",
    "\n",
    "imageNum = layerActivations.shape[0]\n",
    "chanelActivations = np.zeros([10, 8, 60])\n",
    "#set chanel activations\n",
    "for image in range(imageNum): #go through all images \n",
    "  chanelActivations[:,:,:] += layerActivations[image,:,:,:]\n",
    "\n",
    "chanelActivations = chanelActivations/imageNum\n",
    "\n",
    "#compute average activation for each chanel\n",
    "averageChanelActivation = []\n",
    "for chanel in range(60): #there are 60 chanels\n",
    "  activation = np.sum(chanelActivations[:,:,chanel]/80)\n",
    "  averageChanelActivation.append(activation)\n",
    "\n",
    "#sort activations in ascending order while maintaining an index of chanels\n",
    "activationRef = dict() #create an empty dict\n",
    "\n",
    "for idx,value in enumerate(averageChanelActivation):\n",
    "  activationRef[idx] = value\n",
    "\n",
    "sortedActivations = sorted(activationRef.items(), key=lambda x: x[1])\n",
    "\n",
    "#display chanel activations\n",
    "plt.figure(figsize=(12,10))\n",
    "plt.suptitle('Layer 5 average activations')\n",
    "for i in range(6):\n",
    "    for j in range(10):\n",
    "        ax = plt.subplot2grid((6,10), (i,j))\n",
    "        ax.matshow(chanelActivations[:,:,i*10+j])\n",
    "        ax.set_title(str(i*10+j+1), fontsize=14,color='b')\n",
    "        ax.set_xticks([])\n",
    "        ax.set_yticks([])\n",
    "plt.subplots_adjust(hspace=0.2, wspace=0.2)\n",
    "plt.show()"
   ]
  },
  {
   "cell_type": "markdown",
   "metadata": {
    "id": "voK4_wqgdPNv"
   },
   "source": [
    "## Pruning the Badnet: Creating Repaired Networks"
   ]
  },
  {
   "cell_type": "code",
   "execution_count": null,
   "metadata": {
    "id": "4uCmBWtlM6h7"
   },
   "outputs": [],
   "source": [
    "#let us now finally get to pruning\n",
    "#we will prune on validation data\n",
    "def pruneModel(targetAcc,path,valCleanX,valCleanY,testBadX,testBadY):\n",
    "  #targetAcc is given as either 0.02, 0.04 or 0.10 \n",
    "  RepairedModel = keras.models.load_model(path)\n",
    "  RepairedModel.compile(optimizer = 'adam',loss = loss_func,metrics=['accuracy'])\n",
    "\n",
    "  weights,biases = RepairedModel.layers[5].get_weights()\n",
    "\n",
    "  baseLoss, baseAcc = RepairedModel.evaluate(valCleanX,valCleanY,verbose=2)\n",
    "  threshold = 0\n",
    "  run = 0\n",
    "  for i in range(60): #number of chanels to prune\n",
    "\n",
    "    index = sortedActivations[i][0]\n",
    "    weights[:,:,:,index] = np.zeros((3,3,40)) #setting weights to zero\n",
    "    biases[index] = 0 #setting biase to zero \n",
    "    RepairedModel.layers[5].set_weights([weights,biases])\n",
    "    newLoss, newAcc = RepairedModel.evaluate(valCleanX,valCleanY,verbose=2)\n",
    "    threshold = baseAcc - newAcc\n",
    "    run+=1\n",
    "    \n",
    "    if threshold >= targetAcc:\n",
    "      break\n",
    "  \n",
    "  chanelsPrunedFraction = run/60\n",
    "  repLoss, repAcc = RepairedModel.evaluate(valCleanX,valCleanY,verbose=2)\n",
    "  a, attackSuccess = RepairedModel.evaluate(testBadX, testBadY, verbose=0)\n",
    "\n",
    "  return RepairedModel, chanelsPrunedFraction, repAcc, attackSuccess"
   ]
  },
  {
   "cell_type": "code",
   "execution_count": null,
   "metadata": {
    "id": "wUL5p2tzhkZ_"
   },
   "outputs": [],
   "source": [
    "RepairedModel_2, chanelsPrunedFraction_2, repAcc_2, attackSuccess_2 = pruneModel(0.02,path,valCleanX,valCleanY,testBadX,testBadY)"
   ]
  },
  {
   "cell_type": "code",
   "execution_count": null,
   "metadata": {
    "id": "GHydUNSfiGsY"
   },
   "outputs": [],
   "source": [
    "RepairedModel_4, chanelsPrunedFraction_4, repAcc_4, attackSuccess_4 = pruneModel(0.04,path,valCleanX,valCleanY,testBadX,testBadY)"
   ]
  },
  {
   "cell_type": "code",
   "execution_count": null,
   "metadata": {
    "id": "q3QAQ15UikAB"
   },
   "outputs": [],
   "source": [
    "RepairedModel_10, chanelsPrunedFraction_10, repAcc_10, attackSuccess_10 = pruneModel(0.10,path,valCleanX,valCleanY,testBadX,testBadY)"
   ]
  },
  {
   "cell_type": "code",
   "execution_count": null,
   "metadata": {
    "colab": {
     "base_uri": "https://localhost:8080/"
    },
    "id": "PX93tXwmh_-5",
    "outputId": "4d798cba-2478-4f37-8d44-532e35025a95"
   },
   "outputs": [
    {
     "name": "stdout",
     "output_type": "stream",
     "text": [
      "For our 2% repaired model, we have the following metrics:\n",
      "Fraction of chanels pruned:  0.75\n",
      "Accuracy on the clean validation dataset:  0.9575647115707397\n",
      "Attack success rate:  1.0\n",
      "------------------------------------------------------\n",
      "For our 4% repaired model, we have the following metrics:\n",
      "Fraction of chanels pruned:  0.8\n",
      "Accuracy on the clean validation dataset:  0.943448543548584\n",
      "Attack success rate:  0.9998441338539124\n",
      "------------------------------------------------------\n",
      "For our 10% repaired model, we have the following metrics:\n",
      "Fraction of chanels pruned:  0.8666666666666667\n",
      "Accuracy on the clean validation dataset:  0.8443751335144043\n",
      "Attack success rate:  0.7720966339111328\n",
      "------------------------------------------------------\n"
     ]
    }
   ],
   "source": [
    "print('For our 2% repaired model, we have the following metrics:')\n",
    "print('Fraction of chanels pruned: ',chanelsPrunedFraction_2)\n",
    "print('Accuracy on the clean validation dataset: ', repAcc_2)\n",
    "print('Attack success rate: ',attackSuccess_2)\n",
    "print('------------------------------------------------------')\n",
    "\n",
    "print('For our 4% repaired model, we have the following metrics:')\n",
    "print('Fraction of chanels pruned: ',chanelsPrunedFraction_4)\n",
    "print('Accuracy on the clean validation dataset: ', repAcc_4)\n",
    "print('Attack success rate: ',attackSuccess_4)\n",
    "print('------------------------------------------------------')\n",
    "\n",
    "print('For our 10% repaired model, we have the following metrics:')\n",
    "print('Fraction of chanels pruned: ',chanelsPrunedFraction_10)\n",
    "print('Accuracy on the clean validation dataset: ', repAcc_10)\n",
    "print('Attack success rate: ',attackSuccess_10)\n",
    "print('------------------------------------------------------')\n"
   ]
  },
  {
   "cell_type": "markdown",
   "metadata": {
    "id": "zSFBnp9uukFJ"
   },
   "source": [
    "Let us now visualize how the 3 networks performed"
   ]
  },
  {
   "cell_type": "code",
   "execution_count": null,
   "metadata": {
    "colab": {
     "base_uri": "https://localhost:8080/",
     "height": 350
    },
    "id": "4OqCSemOlko0",
    "outputId": "fda01429-3a53-46e5-8b27-62a7a10780d0"
   },
   "outputs": [
    {
     "data": {
      "image/png": "[encoded data removed]",
      "text/plain": [
       "<Figure size 720x360 with 1 Axes>"
      ]
     },
     "metadata": {
      "needs_background": "light"
     },
     "output_type": "display_data"
    }
   ],
   "source": [
    "#generate graphs for validation accuracy and attack success rate \n",
    "#testLoss_2, testAcc_2 = RepairedModel_2.evaluate(testCleanX,testCleanY,verbose=2)\n",
    "#testLoss_4, testAcc_4 = RepairedModel_4.evaluate(testCleanX,testCleanY,verbose=2)\n",
    "#testLoss_10, testAcc_10 = RepairedModel_10.evaluate(testCleanX,testCleanY,verbose=2)\n",
    "\n",
    "prunedFractions = [chanelsPrunedFraction_2,\n",
    "                   chanelsPrunedFraction_4,\n",
    "                   chanelsPrunedFraction_10]\n",
    "\n",
    "testAccuracy = [testAcc_2,\n",
    "                testAcc_4,\n",
    "                testAcc_10]\n",
    "\n",
    "attackSuccess = [attackSuccess_2,\n",
    "                 attackSuccess_4,\n",
    "                 attackSuccess_10]\n",
    "\n",
    "plt.figure(figsize=(10,5))\n",
    "plt.title('Pruned Chanels vs Test Accuracy & Attack Success Rate')\n",
    "plt.plot(prunedFractions,testAccuracy, 'b')\n",
    "plt.plot(prunedFractions,attackSuccess, 'r')\n",
    "plt.legend(['Clean Test Accuracy', 'Attack Success Rate'], fontsize=10)\n",
    "plt.xlabel('Fraction of Chanels Pruned')\n",
    "plt.ylabel('Accuracy')\n",
    "plt.grid()\n",
    "#plt.plot(scaled_adjusted_number_of_channels_pruned, adjusted_attack_success_rate, 'g',)"
   ]
  },
  {
   "cell_type": "markdown",
   "metadata": {
    "id": "BHsAf4PIl2ch"
   },
   "source": [
    "## GoodNet"
   ]
  },
  {
   "cell_type": "markdown",
   "metadata": {
    "id": "R45tB7_Fl5ZT"
   },
   "source": [
    "For the goodnet, we will simply feed the network with test data (mix of bad and good) and compare the outputs. If outputs do not match, then we will assign N+1 as the prediction"
   ]
  },
  {
   "cell_type": "code",
   "execution_count": null,
   "metadata": {
    "id": "NMpLgG9wl4dz"
   },
   "outputs": [],
   "source": [
    "#goodnet time\n",
    "def GoodNet(BadNet,RepairedNet,testX,N):\n",
    "  badPredictions = np.argmax(BadNet.predict(testX), axis=1)\n",
    "  repairedPredictions = np.argmax(RepairedNet.predict(testX), axis=1)\n",
    "\n",
    "  correctPredictions = []\n",
    "  badImages = []\n",
    "\n",
    "  predictionsCount = len(badPredictions)\n",
    "  for i in range(predictionsCount):\n",
    "    badPred = badPredictions[i]\n",
    "    repPred = repairedPredictions[i]\n",
    "\n",
    "    if badPred == repPred:\n",
    "      correctPredictions.append([i,badPred])\n",
    "    else:\n",
    "      badImages.append([i,N+1])\n",
    "  \n",
    "  return correctPredictions, badImages"
   ]
  },
  {
   "cell_type": "code",
   "execution_count": null,
   "metadata": {
    "colab": {
     "base_uri": "https://localhost:8080/"
    },
    "id": "PA8GmMdhr429",
    "outputId": "7e181790-03b8-4a87-a6b3-2c88334dabc8"
   },
   "outputs": [
    {
     "name": "stdout",
     "output_type": "stream",
     "text": [
      "Number of misclassified images in 2% model:  0\n",
      "Number of misclassified images in 4% model:  2\n",
      "Number of misclassified images in 10% model:  2924\n"
     ]
    }
   ],
   "source": [
    "#get the mislabelled images\n",
    "correctPredictions_2, badImages_2 = GoodNet(BadModel,RepairedModel_2,testBadX,1283)\n",
    "correctPredictions_4, badImages_4 = GoodNet(BadModel,RepairedModel_4,testBadX,1283)\n",
    "correctPredictions_10, badImages_10 = GoodNet(BadModel,RepairedModel_10,testBadX,1283)\n",
    "\n",
    "#print number of misclassified images that were detected by our goodnet\n",
    "print('Number of misclassified images in 2% model: ',len(badImages_2))\n",
    "print('Number of misclassified images in 4% model: ',len(badImages_4))\n",
    "print('Number of misclassified images in 10% model: ',len(badImages_10))"
   ]
  },
  {
   "cell_type": "markdown",
   "metadata": {
    "id": "8wd6BbaJs3Ig"
   },
   "source": [
    "We now look at the number of misclassified images. As can be seen, the 10% model has the highest number of N+1 predictions which means that it performs the best at defending attacks. For the 2% and 4% model, we see that all images go through the network undetected with the exception of only 2 images for the 4% model."
   ]
  }
 ],
 "metadata": {
  "accelerator": "GPU",
  "colab": {
   "machine_shape": "hm",
   "name": "Copy of LAB3.ipynb",
   "provenance": []
  },
  "kernelspec": {
   "display_name": "Python 3",
   "language": "python",
   "name": "python3"
  },
  "language_info": {
   "codemirror_mode": {
    "name": "ipython",
    "version": 3
   },
   "file_extension": ".py",
   "mimetype": "text/x-python",
   "name": "python",
   "nbconvert_exporter": "python",
   "pygments_lexer": "ipython3",
   "version": "3.7.4"
  }
 },
 "nbformat": 4,
 "nbformat_minor": 1
}
